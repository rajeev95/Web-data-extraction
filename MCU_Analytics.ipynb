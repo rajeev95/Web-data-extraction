{
 "cells": [
  {
   "cell_type": "code",
   "execution_count": 33,
   "metadata": {},
   "outputs": [],
   "source": [
    "from bs4 import BeautifulSoup\n",
    "import requests\n",
    "import pandas as pd"
   ]
  },
  {
   "cell_type": "code",
   "execution_count": 34,
   "metadata": {
    "scrolled": true
   },
   "outputs": [],
   "source": [
    "#access to the web\n",
    "url='https://pro.imdb.com/boxoffice/franchise/fr4148662021?rf=mojo_rl_cta_franchise&sort=releaseDate&ref_=bo_fr__resort#table'\n",
    "response=requests.get(url)\n",
    "#testing a result 200 ok response "
   ]
  },
  {
   "cell_type": "code",
   "execution_count": 35,
   "metadata": {},
   "outputs": [],
   "source": [
    "#containing in a source variable\n",
    "src = open('bo.txt','r').read()\n"
   ]
  },
  {
   "cell_type": "code",
   "execution_count": 39,
   "metadata": {},
   "outputs": [
    {
     "data": {
      "text/plain": [
       "<html><body><table class=\"a-bordered a-horizontal-stripes a-size-base a-span12 mojo-body-table mojo-table-annotated scrolling-data-table\" style=\"table-layout: fixed;\"><tbody><tr style=\"display: none;\"><th class=\"a-text-right mojo-field-type-rank mojo-sortable-column a-nowrap\" style=\"width: 59px; height: 31px; min-width: 59px; min-height: 31px;\"><span title=\"Rank\">Rank</span>\n",
       "</th><th class=\"a-text-left mojo-field-type-release mojo-cell-wide mojo-sortable-column a-nowrap\" style=\"width: 251px; height: 31px; min-width: 251px; min-height: 31px;\"><span title=\"Release\">Release</span>\n",
       "</th><th class=\"a-text-right mojo-field-type-money mojo-sortable-column mojo-estimatable a-nowrap\" style=\"width: 122px; height: 31px; min-width: 122px; min-height: 31px;\"><a class=\"a-link-normal a-nowrap\" href=\"?sort=grossToDate&amp;rf=mojo_rl_cta_franchise&amp;ref_=bo_fr__resort#table\" title=\"Lifetime Gross\">Lifetime Gross<span class=\"a-letter-space\"></span><span class=\"icon aok-relative\"><i class=\"a-icon a-icon-expand table-sort-desc-placeholder\" role=\"img\"></i><i class=\"a-icon a-icon-collapse table-sort-asc-placeholder\" role=\"img\"></i></span></a></th><th class=\"a-text-right mojo-field-type-positive_integer mojo-sortable-column a-nowrap\" style=\"width: 114px; height: 31px; min-width: 114px; min-height: 31px;\"><a class=\"a-link-normal a-nowrap\" href=\"?sort=maxNumTheaters&amp;rf=mojo_rl_cta_franchise&amp;ref_=bo_fr__resort#table\" title=\"Max Theaters\">Max Theaters<span class=\"a-letter-space\"></span><span class=\"icon aok-relative\"><i class=\"a-icon a-icon-expand table-sort-desc-placeholder\" role=\"img\"></i><i class=\"a-icon a-icon-collapse table-sort-asc-placeholder\" role=\"img\"></i></span></a></th><th class=\"a-text-right mojo-field-type-money mojo-sortable-column a-nowrap\" style=\"width: 111px; height: 31px; min-width: 111px; min-height: 31px;\"><a class=\"a-link-normal a-nowrap\" href=\"?sort=openingWeekendGross&amp;rf=mojo_rl_cta_franchise&amp;ref_=bo_fr__resort#table\" title=\"Opening\">Opening<span class=\"a-letter-space\"></span><span class=\"icon aok-relative\"><i class=\"a-icon a-icon-expand table-sort-desc-placeholder\" role=\"img\"></i><i class=\"a-icon a-icon-collapse table-sort-asc-placeholder\" role=\"img\"></i></span></a></th><th class=\"a-text-right mojo-field-type-positive_integer mojo-sortable-column a-nowrap\" style=\"width: 86px; height: 31px; min-width: 86px; min-height: 31px;\"><a class=\"a-link-normal a-nowrap\" href=\"?sort=openingNumTheaters&amp;rf=mojo_rl_cta_franchise&amp;ref_=bo_fr__resort#table\" title=\"Opening Number of Theaters\">Open Th<span class=\"a-letter-space\"></span><span class=\"icon aok-relative\"><i class=\"a-icon a-icon-expand table-sort-desc-placeholder\" role=\"img\"></i><i class=\"a-icon a-icon-collapse table-sort-asc-placeholder\" role=\"img\"></i></span></a></th><th class=\"a-text-left mojo-field-type-date mojo-sort-column mojo-sortable-column a-nowrap\" style=\"width: 111px; height: 31px; min-width: 111px; min-height: 31px;\"><a class=\"a-link-normal a-nowrap\" href=\"?sortDir=asc&amp;sort=releaseDate&amp;rf=mojo_rl_cta_franchise&amp;ref_=bo_fr__resort#table\" title=\"Release Date\"><span class=\"a-color-state\">Release Date</span><span class=\"a-letter-space\"></span><span class=\"icon aok-relative\"><i class=\"a-icon a-icon-expand\" role=\"img\"></i></span></a></th><th class=\"a-text-left mojo-field-type-release_studios mojo-sortable-column a-nowrap\" style=\"width: 136px; height: 31px; min-width: 136px; min-height: 31px;\"><span title=\"Distributor\">Distributor</span>\n",
       "</th><th class=\"a-text-right mojo-field-type-boolean hidden mojo-sortable-column hidden a-nowrap\" style=\"width: 0px; height: 0px; min-width: 0px; min-height: 0px;\"><span title=\"Estimated\">Estimated</span>\n",
       "</th></tr><tr><td class=\"a-text-right mojo-header-column mojo-truncate mojo-field-type-rank\" style=\"width: 59px; height: 68px; min-width: 59px; min-height: 68px;\">-</td><td class=\"a-text-left mojo-field-type-release mojo-cell-wide\" style=\"width: 251px; height: 68px; min-width: 251px; min-height: 68px;\"><a class=\"a-link-normal\" href=\"/release/rl3584262657/?ref_=bo_fr_table_1\">Untitled Marvel (Nov 2023)</a></td><td class=\"a-text-right mojo-field-type-money mojo-estimatable\" style=\"width: 122px; height: 68px; min-width: 122px; min-height: 68px;\">-</td><td class=\"a-text-right mojo-field-type-positive_integer\" style=\"width: 114px; height: 68px; min-width: 114px; min-height: 68px;\">-</td><td class=\"a-text-right mojo-field-type-money\" style=\"width: 111px; height: 68px; min-width: 111px; min-height: 68px;\">-</td><td class=\"a-text-right mojo-field-type-positive_integer\" style=\"width: 86px; height: 68px; min-width: 86px; min-height: 68px;\">-</td><td class=\"a-text-left mojo-field-type-date mojo-sort-column a-nowrap\" style=\"width: 111px; height: 68px; min-width: 111px; min-height: 68px;\"><a class=\"a-link-normal\" href=\"/boxoffice/date/2023-11-03/?ref_=bo_fr_table_1\">Nov 3, 2023</a></td><td class=\"a-text-left mojo-field-type-release_studios\" style=\"width: 136px; height: 68px; min-width: 136px; min-height: 68px;\"><a class=\"a-link-normal\" href=\"https://pro.imdb.com/company/co0226183/boxoffice/?view=releases&amp;ref_=mojo_fr_table_1&amp;rf=mojo_fr_table_1\" rel=\"noopener\" target=\"_blank\">Walt Disney Studios Motion Pictures</a></td><td class=\"a-text-right mojo-field-type-boolean hidden\" style=\"width: 0px; height: 0px; min-width: 0px; min-height: 0px;\">false</td></tr><tr><td class=\"a-text-right mojo-header-column mojo-truncate mojo-field-type-rank\" style=\"width: 59px; height: 68px; min-width: 59px; min-height: 68px;\">-</td><td class=\"a-text-left mojo-field-type-release mojo-cell-wide\" style=\"width: 251px; height: 68px; min-width: 251px; min-height: 68px;\"><a class=\"a-link-normal\" href=\"/release/rl3533931009/?ref_=bo_fr_table_2\">Untitled Marvel (July 2023)</a></td><td class=\"a-text-right mojo-field-type-money mojo-estimatable\" style=\"width: 122px; height: 68px; min-width: 122px; min-height: 68px;\">-</td><td class=\"a-text-right mojo-field-type-positive_integer\" style=\"width: 114px; height: 68px; min-width: 114px; min-height: 68px;\">-</td><td class=\"a-text-right mojo-field-type-money\" style=\"width: 111px; height: 68px; min-width: 111px; min-height: 68px;\">-</td><td class=\"a-text-right mojo-field-type-positive_integer\" style=\"width: 86px; height: 68px; min-width: 86px; min-height: 68px;\">-</td><td class=\"a-text-left mojo-field-type-date mojo-sort-column a-nowrap\" style=\"width: 111px; height: 68px; min-width: 111px; min-height: 68px;\"><a class=\"a-link-normal\" href=\"/boxoffice/date/2023-07-28/?ref_=bo_fr_table_2\">Jul 28, 2023</a></td><td class=\"a-text-left mojo-field-type-release_studios\" style=\"width: 136px; height: 68px; min-width: 136px; min-height: 68px;\"><a class=\"a-link-normal\" href=\"https://pro.imdb.com/company/co0226183/boxoffice/?view=releases&amp;ref_=mojo_fr_table_2&amp;rf=mojo_fr_table_2\" rel=\"noopener\" target=\"_blank\">Walt Disney Studios Motion Pictures</a></td><td class=\"a-text-right mojo-field-type-boolean hidden\" style=\"width: 0px; height: 0px; min-width: 0px; min-height: 0px;\">false</td></tr><tr><td class=\"a-text-right mojo-header-column mojo-truncate mojo-field-type-rank\" style=\"width: 59px; height: 68px; min-width: 59px; min-height: 68px;\">-</td><td class=\"a-text-left mojo-field-type-release mojo-cell-wide\" style=\"width: 251px; height: 68px; min-width: 251px; min-height: 68px;\"><a class=\"a-link-normal\" href=\"/release/rl3701703169/?ref_=bo_fr_table_3\">Untitled Marvel (May 2023)</a></td><td class=\"a-text-right mojo-field-type-money mojo-estimatable\" style=\"width: 122px; height: 68px; min-width: 122px; min-height: 68px;\">-</td><td class=\"a-text-right mojo-field-type-positive_integer\" style=\"width: 114px; height: 68px; min-width: 114px; min-height: 68px;\">-</td><td class=\"a-text-right mojo-field-type-money\" style=\"width: 111px; height: 68px; min-width: 111px; min-height: 68px;\">-</td><td class=\"a-text-right mojo-field-type-positive_integer\" style=\"width: 86px; height: 68px; min-width: 86px; min-height: 68px;\">-</td><td class=\"a-text-left mojo-field-type-date mojo-sort-column a-nowrap\" style=\"width: 111px; height: 68px; min-width: 111px; min-height: 68px;\"><a class=\"a-link-normal\" href=\"/boxoffice/date/2023-05-05/?ref_=bo_fr_table_3\">May 5, 2023</a></td><td class=\"a-text-left mojo-field-type-release_studios\" style=\"width: 136px; height: 68px; min-width: 136px; min-height: 68px;\"><a class=\"a-link-normal\" href=\"https://pro.imdb.com/company/co0226183/boxoffice/?view=releases&amp;ref_=mojo_fr_table_3&amp;rf=mojo_fr_table_3\" rel=\"noopener\" target=\"_blank\">Walt Disney Studios Motion Pictures</a></td><td class=\"a-text-right mojo-field-type-boolean hidden\" style=\"width: 0px; height: 0px; min-width: 0px; min-height: 0px;\">false</td></tr><tr><td class=\"a-text-right mojo-header-column mojo-truncate mojo-field-type-rank\" style=\"width: 59px; height: 68px; min-width: 59px; min-height: 68px;\">-</td><td class=\"a-text-left mojo-field-type-release mojo-cell-wide\" style=\"width: 251px; height: 68px; min-width: 251px; min-height: 68px;\"><a class=\"a-link-normal\" href=\"/release/rl3651371521/?ref_=bo_fr_table_4\">Untitled Marvel (Feb 2023)</a></td><td class=\"a-text-right mojo-field-type-money mojo-estimatable\" style=\"width: 122px; height: 68px; min-width: 122px; min-height: 68px;\">-</td><td class=\"a-text-right mojo-field-type-positive_integer\" style=\"width: 114px; height: 68px; min-width: 114px; min-height: 68px;\">-</td><td class=\"a-text-right mojo-field-type-money\" style=\"width: 111px; height: 68px; min-width: 111px; min-height: 68px;\">-</td><td class=\"a-text-right mojo-field-type-positive_integer\" style=\"width: 86px; height: 68px; min-width: 86px; min-height: 68px;\">-</td><td class=\"a-text-left mojo-field-type-date mojo-sort-column a-nowrap\" style=\"width: 111px; height: 68px; min-width: 111px; min-height: 68px;\"><a class=\"a-link-normal\" href=\"/boxoffice/date/2023-02-17/?ref_=bo_fr_table_4\">Feb 17, 2023</a></td><td class=\"a-text-left mojo-field-type-release_studios\" style=\"width: 136px; height: 68px; min-width: 136px; min-height: 68px;\"><a class=\"a-link-normal\" href=\"https://pro.imdb.com/company/co0226183/boxoffice/?view=releases&amp;ref_=mojo_fr_table_4&amp;rf=mojo_fr_table_4\" rel=\"noopener\" target=\"_blank\">Walt Disney Studios Motion Pictures</a></td><td class=\"a-text-right mojo-field-type-boolean hidden\" style=\"width: 0px; height: 0px; min-width: 0px; min-height: 0px;\">false</td></tr><tr><td class=\"a-text-right mojo-header-column mojo-truncate mojo-field-type-rank\" style=\"width: 59px; height: 68px; min-width: 59px; min-height: 68px;\">-</td><td class=\"a-text-left mojo-field-type-release mojo-cell-wide\" style=\"width: 251px; height: 68px; min-width: 251px; min-height: 68px;\"><a class=\"a-link-normal\" href=\"/release/rl3869475329/?ref_=bo_fr_table_5\">Untitled Marvel (Oct 2022)</a></td><td class=\"a-text-right mojo-field-type-money mojo-estimatable\" style=\"width: 122px; height: 68px; min-width: 122px; min-height: 68px;\">-</td><td class=\"a-text-right mojo-field-type-positive_integer\" style=\"width: 114px; height: 68px; min-width: 114px; min-height: 68px;\">-</td><td class=\"a-text-right mojo-field-type-money\" style=\"width: 111px; height: 68px; min-width: 111px; min-height: 68px;\">-</td><td class=\"a-text-right mojo-field-type-positive_integer\" style=\"width: 86px; height: 68px; min-width: 86px; min-height: 68px;\">-</td><td class=\"a-text-left mojo-field-type-date mojo-sort-column a-nowrap\" style=\"width: 111px; height: 68px; min-width: 111px; min-height: 68px;\"><a class=\"a-link-normal\" href=\"/boxoffice/date/2022-10-07/?ref_=bo_fr_table_5\">Oct 7, 2022</a></td><td class=\"a-text-left mojo-field-type-release_studios\" style=\"width: 136px; height: 68px; min-width: 136px; min-height: 68px;\"><a class=\"a-link-normal\" href=\"https://pro.imdb.com/company/co0226183/boxoffice/?view=releases&amp;ref_=mojo_fr_table_5&amp;rf=mojo_fr_table_5\" rel=\"noopener\" target=\"_blank\">Walt Disney Studios Motion Pictures</a></td><td class=\"a-text-right mojo-field-type-boolean hidden\" style=\"width: 0px; height: 0px; min-width: 0px; min-height: 0px;\">false</td></tr><tr><td class=\"a-text-right mojo-header-column mojo-truncate mojo-field-type-rank\" style=\"width: 59px; height: 68px; min-width: 59px; min-height: 68px;\">-</td><td class=\"a-text-left mojo-field-type-release mojo-cell-wide\" style=\"width: 251px; height: 68px; min-width: 251px; min-height: 68px;\"><a class=\"a-link-normal\" href=\"/release/rl3372582401/?ref_=bo_fr_table_6\">Untitled Disney Marvel Film</a></td><td class=\"a-text-right mojo-field-type-money mojo-estimatable\" style=\"width: 122px; height: 68px; min-width: 122px; min-height: 68px;\">-</td><td class=\"a-text-right mojo-field-type-positive_integer\" style=\"width: 114px; height: 68px; min-width: 114px; min-height: 68px;\">-</td><td class=\"a-text-right mojo-field-type-money\" style=\"width: 111px; height: 68px; min-width: 111px; min-height: 68px;\">-</td><td class=\"a-text-right mojo-field-type-positive_integer\" style=\"width: 86px; height: 68px; min-width: 86px; min-height: 68px;\">-</td><td class=\"a-text-left mojo-field-type-date mojo-sort-column a-nowrap\" style=\"width: 111px; height: 68px; min-width: 111px; min-height: 68px;\"><a class=\"a-link-normal\" href=\"/boxoffice/date/2022-07-29/?ref_=bo_fr_table_6\">Jul 29, 2022</a></td><td class=\"a-text-left mojo-field-type-release_studios\" style=\"width: 136px; height: 68px; min-width: 136px; min-height: 68px;\"><a class=\"a-link-normal\" href=\"https://pro.imdb.com/company/co0226183/boxoffice/?view=releases&amp;ref_=mojo_fr_table_6&amp;rf=mojo_fr_table_6\" rel=\"noopener\" target=\"_blank\">Walt Disney Studios Motion Pictures</a></td><td class=\"a-text-right mojo-field-type-boolean hidden\" style=\"width: 0px; height: 0px; min-width: 0px; min-height: 0px;\">false</td></tr><tr><td class=\"a-text-right mojo-header-column mojo-truncate mojo-field-type-rank\" style=\"width: 59px; height: 68px; min-width: 59px; min-height: 68px;\">-</td><td class=\"a-text-left mojo-field-type-release mojo-cell-wide\" style=\"width: 251px; height: 68px; min-width: 251px; min-height: 68px;\"><a class=\"a-link-normal\" href=\"/release/rl3573908993/?ref_=bo_fr_table_7\">Black Panther II</a></td><td class=\"a-text-right mojo-field-type-money mojo-estimatable\" style=\"width: 122px; height: 68px; min-width: 122px; min-height: 68px;\">-</td><td class=\"a-text-right mojo-field-type-positive_integer\" style=\"width: 114px; height: 68px; min-width: 114px; min-height: 68px;\">-</td><td class=\"a-text-right mojo-field-type-money\" style=\"width: 111px; height: 68px; min-width: 111px; min-height: 68px;\">-</td><td class=\"a-text-right mojo-field-type-positive_integer\" style=\"width: 86px; height: 68px; min-width: 86px; min-height: 68px;\">-</td><td class=\"a-text-left mojo-field-type-date mojo-sort-column a-nowrap\" style=\"width: 111px; height: 68px; min-width: 111px; min-height: 68px;\"><a class=\"a-link-normal\" href=\"/boxoffice/date/2022-05-06/?ref_=bo_fr_table_7\">May 6, 2022</a></td><td class=\"a-text-left mojo-field-type-release_studios\" style=\"width: 136px; height: 68px; min-width: 136px; min-height: 68px;\"><a class=\"a-link-normal\" href=\"https://pro.imdb.com/company/co0226183/boxoffice/?view=releases&amp;ref_=mojo_fr_table_7&amp;rf=mojo_fr_table_7\" rel=\"noopener\" target=\"_blank\">Walt Disney Studios Motion Pictures</a></td><td class=\"a-text-right mojo-field-type-boolean hidden\" style=\"width: 0px; height: 0px; min-width: 0px; min-height: 0px;\">false</td></tr><tr><td class=\"a-text-right mojo-header-column mojo-truncate mojo-field-type-rank\" style=\"width: 59px; height: 68px; min-width: 59px; min-height: 68px;\">-</td><td class=\"a-text-left mojo-field-type-release mojo-cell-wide\" style=\"width: 251px; height: 68px; min-width: 251px; min-height: 68px;\"><a class=\"a-link-normal\" href=\"/release/rl3540354561/?ref_=bo_fr_table_8\">Untitled Disney Marvel Film</a></td><td class=\"a-text-right mojo-field-type-money mojo-estimatable\" style=\"width: 122px; height: 68px; min-width: 122px; min-height: 68px;\">-</td><td class=\"a-text-right mojo-field-type-positive_integer\" style=\"width: 114px; height: 68px; min-width: 114px; min-height: 68px;\">-</td><td class=\"a-text-right mojo-field-type-money\" style=\"width: 111px; height: 68px; min-width: 111px; min-height: 68px;\">-</td><td class=\"a-text-right mojo-field-type-positive_integer\" style=\"width: 86px; height: 68px; min-width: 86px; min-height: 68px;\">-</td><td class=\"a-text-left mojo-field-type-date mojo-sort-column a-nowrap\" style=\"width: 111px; height: 68px; min-width: 111px; min-height: 68px;\"><a class=\"a-link-normal\" href=\"/boxoffice/date/2022-02-18/?ref_=bo_fr_table_8\">Feb 18, 2022</a></td><td class=\"a-text-left mojo-field-type-release_studios\" style=\"width: 136px; height: 68px; min-width: 136px; min-height: 68px;\"><a class=\"a-link-normal\" href=\"https://pro.imdb.com/company/co0226183/boxoffice/?view=releases&amp;ref_=mojo_fr_table_8&amp;rf=mojo_fr_table_8\" rel=\"noopener\" target=\"_blank\">Walt Disney Studios Motion Pictures</a></td><td class=\"a-text-right mojo-field-type-boolean hidden\" style=\"width: 0px; height: 0px; min-width: 0px; min-height: 0px;\">false</td></tr><tr><td class=\"a-text-right mojo-header-column mojo-truncate mojo-field-type-rank\" style=\"width: 59px; height: 68px; min-width: 59px; min-height: 68px;\">-</td><td class=\"a-text-left mojo-field-type-release mojo-cell-wide\" style=\"width: 251px; height: 68px; min-width: 251px; min-height: 68px;\"><a class=\"a-link-normal\" href=\"/release/rl3523577345/?ref_=bo_fr_table_9\">Thor: Love and Thunder</a></td><td class=\"a-text-right mojo-field-type-money mojo-estimatable\" style=\"width: 122px; height: 68px; min-width: 122px; min-height: 68px;\">-</td><td class=\"a-text-right mojo-field-type-positive_integer\" style=\"width: 114px; height: 68px; min-width: 114px; min-height: 68px;\">-</td><td class=\"a-text-right mojo-field-type-money\" style=\"width: 111px; height: 68px; min-width: 111px; min-height: 68px;\">-</td><td class=\"a-text-right mojo-field-type-positive_integer\" style=\"width: 86px; height: 68px; min-width: 86px; min-height: 68px;\">-</td><td class=\"a-text-left mojo-field-type-date mojo-sort-column a-nowrap\" style=\"width: 111px; height: 68px; min-width: 111px; min-height: 68px;\"><a class=\"a-link-normal\" href=\"/boxoffice/date/2021-11-05/?ref_=bo_fr_table_9\">Nov 5, 2021</a></td><td class=\"a-text-left mojo-field-type-release_studios\" style=\"width: 136px; height: 68px; min-width: 136px; min-height: 68px;\"><a class=\"a-link-normal\" href=\"https://pro.imdb.com/company/co0226183/boxoffice/?view=releases&amp;ref_=mojo_fr_table_9&amp;rf=mojo_fr_table_9\" rel=\"noopener\" target=\"_blank\">Walt Disney Studios Motion Pictures</a></td><td class=\"a-text-right mojo-field-type-boolean hidden\" style=\"width: 0px; height: 0px; min-width: 0px; min-height: 0px;\">false</td></tr><tr><td class=\"a-text-right mojo-header-column mojo-truncate mojo-field-type-rank\" style=\"width: 59px; height: 50px; min-width: 59px; min-height: 50px;\">-</td><td class=\"a-text-left mojo-field-type-release mojo-cell-wide\" style=\"width: 251px; height: 50px; min-width: 251px; min-height: 50px;\"><a class=\"a-link-normal\" href=\"/release/rl2869659137/?ref_=bo_fr_table_10\">Untitled Spider-Man Sequel</a></td><td class=\"a-text-right mojo-field-type-money mojo-estimatable\" style=\"width: 122px; height: 50px; min-width: 122px; min-height: 50px;\">-</td><td class=\"a-text-right mojo-field-type-positive_integer\" style=\"width: 114px; height: 50px; min-width: 114px; min-height: 50px;\">-</td><td class=\"a-text-right mojo-field-type-money\" style=\"width: 111px; height: 50px; min-width: 111px; min-height: 50px;\">-</td><td class=\"a-text-right mojo-field-type-positive_integer\" style=\"width: 86px; height: 50px; min-width: 86px; min-height: 50px;\">-</td><td class=\"a-text-left mojo-field-type-date mojo-sort-column a-nowrap\" style=\"width: 111px; height: 50px; min-width: 111px; min-height: 50px;\"><a class=\"a-link-normal\" href=\"/boxoffice/date/2021-07-16/?ref_=bo_fr_table_10\">Jul 16, 2021</a></td><td class=\"a-text-left mojo-field-type-release_studios\" style=\"width: 136px; height: 50px; min-width: 136px; min-height: 50px;\"><a class=\"a-link-normal\" href=\"https://pro.imdb.com/company/co0110101/boxoffice/?view=releases&amp;ref_=mojo_fr_table_10&amp;rf=mojo_fr_table_10\" rel=\"noopener\" target=\"_blank\">Sony Pictures Releasing</a></td><td class=\"a-text-right mojo-field-type-boolean hidden\" style=\"width: 0px; height: 0px; min-width: 0px; min-height: 0px;\">false</td></tr><tr><td class=\"a-text-right mojo-header-column mojo-truncate mojo-field-type-rank\" style=\"width: 59px; height: 68px; min-width: 59px; min-height: 68px;\">-</td><td class=\"a-text-left mojo-field-type-release mojo-cell-wide\" style=\"width: 251px; height: 68px; min-width: 251px; min-height: 68px;\"><a class=\"a-link-normal\" href=\"/release/rl3724903937/?ref_=bo_fr_table_11\">Doctor Strange in the Multiverse of Madness</a></td><td class=\"a-text-right mojo-field-type-money mojo-estimatable\" style=\"width: 122px; height: 68px; min-width: 122px; min-height: 68px;\">-</td><td class=\"a-text-right mojo-field-type-positive_integer\" style=\"width: 114px; height: 68px; min-width: 114px; min-height: 68px;\">-</td><td class=\"a-text-right mojo-field-type-money\" style=\"width: 111px; height: 68px; min-width: 111px; min-height: 68px;\">-</td><td class=\"a-text-right mojo-field-type-positive_integer\" style=\"width: 86px; height: 68px; min-width: 86px; min-height: 68px;\">-</td><td class=\"a-text-left mojo-field-type-date mojo-sort-column a-nowrap\" style=\"width: 111px; height: 68px; min-width: 111px; min-height: 68px;\"><a class=\"a-link-normal\" href=\"/boxoffice/date/2021-05-07/?ref_=bo_fr_table_11\">May 7, 2021</a></td><td class=\"a-text-left mojo-field-type-release_studios\" style=\"width: 136px; height: 68px; min-width: 136px; min-height: 68px;\"><a class=\"a-link-normal\" href=\"https://pro.imdb.com/company/co0226183/boxoffice/?view=releases&amp;ref_=mojo_fr_table_11&amp;rf=mojo_fr_table_11\" rel=\"noopener\" target=\"_blank\">Walt Disney Studios Motion Pictures</a></td><td class=\"a-text-right mojo-field-type-boolean hidden\" style=\"width: 0px; height: 0px; min-width: 0px; min-height: 0px;\">false</td></tr><tr><td class=\"a-text-right mojo-header-column mojo-truncate mojo-field-type-rank\" style=\"width: 59px; height: 68px; min-width: 59px; min-height: 68px;\">-</td><td class=\"a-text-left mojo-field-type-release mojo-cell-wide\" style=\"width: 251px; height: 68px; min-width: 251px; min-height: 68px;\"><a class=\"a-link-normal\" href=\"/release/rl3490022913/?ref_=bo_fr_table_12\">Shang-Chi and the Legend of the Ten Rings</a></td><td class=\"a-text-right mojo-field-type-money mojo-estimatable\" style=\"width: 122px; height: 68px; min-width: 122px; min-height: 68px;\">-</td><td class=\"a-text-right mojo-field-type-positive_integer\" style=\"width: 114px; height: 68px; min-width: 114px; min-height: 68px;\">-</td><td class=\"a-text-right mojo-field-type-money\" style=\"width: 111px; height: 68px; min-width: 111px; min-height: 68px;\">-</td><td class=\"a-text-right mojo-field-type-positive_integer\" style=\"width: 86px; height: 68px; min-width: 86px; min-height: 68px;\">-</td><td class=\"a-text-left mojo-field-type-date mojo-sort-column a-nowrap\" style=\"width: 111px; height: 68px; min-width: 111px; min-height: 68px;\"><a class=\"a-link-normal\" href=\"/boxoffice/date/2021-02-12/?ref_=bo_fr_table_12\">Feb 12, 2021</a></td><td class=\"a-text-left mojo-field-type-release_studios\" style=\"width: 136px; height: 68px; min-width: 136px; min-height: 68px;\"><a class=\"a-link-normal\" href=\"https://pro.imdb.com/company/co0226183/boxoffice/?view=releases&amp;ref_=mojo_fr_table_12&amp;rf=mojo_fr_table_12\" rel=\"noopener\" target=\"_blank\">Walt Disney Studios Motion Pictures</a></td><td class=\"a-text-right mojo-field-type-boolean hidden\" style=\"width: 0px; height: 0px; min-width: 0px; min-height: 0px;\">false</td></tr><tr><td class=\"a-text-right mojo-header-column mojo-truncate mojo-field-type-rank\" style=\"width: 59px; height: 68px; min-width: 59px; min-height: 68px;\">-</td><td class=\"a-text-left mojo-field-type-release mojo-cell-wide\" style=\"width: 251px; height: 68px; min-width: 251px; min-height: 68px;\"><a class=\"a-link-normal\" href=\"/release/rl2138867201/?ref_=bo_fr_table_13\">Eternals</a></td><td class=\"a-text-right mojo-field-type-money mojo-estimatable\" style=\"width: 122px; height: 68px; min-width: 122px; min-height: 68px;\">-</td><td class=\"a-text-right mojo-field-type-positive_integer\" style=\"width: 114px; height: 68px; min-width: 114px; min-height: 68px;\">-</td><td class=\"a-text-right mojo-field-type-money\" style=\"width: 111px; height: 68px; min-width: 111px; min-height: 68px;\">-</td><td class=\"a-text-right mojo-field-type-positive_integer\" style=\"width: 86px; height: 68px; min-width: 86px; min-height: 68px;\">-</td><td class=\"a-text-left mojo-field-type-date mojo-sort-column a-nowrap\" style=\"width: 111px; height: 68px; min-width: 111px; min-height: 68px;\"><a class=\"a-link-normal\" href=\"/boxoffice/date/2020-11-06/?ref_=bo_fr_table_13\">Nov 6, 2020</a></td><td class=\"a-text-left mojo-field-type-release_studios\" style=\"width: 136px; height: 68px; min-width: 136px; min-height: 68px;\"><a class=\"a-link-normal\" href=\"https://pro.imdb.com/company/co0226183/boxoffice/?view=releases&amp;ref_=mojo_fr_table_13&amp;rf=mojo_fr_table_13\" rel=\"noopener\" target=\"_blank\">Walt Disney Studios Motion Pictures</a></td><td class=\"a-text-right mojo-field-type-boolean hidden\" style=\"width: 0px; height: 0px; min-width: 0px; min-height: 0px;\">false</td></tr><tr><td class=\"a-text-right mojo-header-column mojo-truncate mojo-field-type-rank\" style=\"width: 59px; height: 68px; min-width: 59px; min-height: 68px;\">-</td><td class=\"a-text-left mojo-field-type-release mojo-cell-wide\" style=\"width: 251px; height: 68px; min-width: 251px; min-height: 68px;\"><a class=\"a-link-normal\" href=\"/release/rl2122089985/?ref_=bo_fr_table_14\">Black Widow</a></td><td class=\"a-text-right mojo-field-type-money mojo-estimatable\" style=\"width: 122px; height: 68px; min-width: 122px; min-height: 68px;\">-</td><td class=\"a-text-right mojo-field-type-positive_integer\" style=\"width: 114px; height: 68px; min-width: 114px; min-height: 68px;\">-</td><td class=\"a-text-right mojo-field-type-money\" style=\"width: 111px; height: 68px; min-width: 111px; min-height: 68px;\">-</td><td class=\"a-text-right mojo-field-type-positive_integer\" style=\"width: 86px; height: 68px; min-width: 86px; min-height: 68px;\">-</td><td class=\"a-text-left mojo-field-type-date mojo-sort-column a-nowrap\" style=\"width: 111px; height: 68px; min-width: 111px; min-height: 68px;\"><a class=\"a-link-normal\" href=\"/boxoffice/date/2020-05-01/?ref_=bo_fr_table_14\">May 1, 2020</a></td><td class=\"a-text-left mojo-field-type-release_studios\" style=\"width: 136px; height: 68px; min-width: 136px; min-height: 68px;\"><a class=\"a-link-normal\" href=\"https://pro.imdb.com/company/co0226183/boxoffice/?view=releases&amp;ref_=mojo_fr_table_14&amp;rf=mojo_fr_table_14\" rel=\"noopener\" target=\"_blank\">Walt Disney Studios Motion Pictures</a></td><td class=\"a-text-right mojo-field-type-boolean hidden\" style=\"width: 0px; height: 0px; min-width: 0px; min-height: 0px;\">false</td></tr><tr><td class=\"a-text-right mojo-header-column mojo-truncate mojo-field-type-rank\" style=\"width: 59px; height: 50px; min-width: 59px; min-height: 50px;\">9</td><td class=\"a-text-left mojo-field-type-release mojo-cell-wide\" style=\"width: 251px; height: 50px; min-width: 251px; min-height: 50px;\"><a class=\"a-link-normal\" href=\"/release/rl3791750657/?ref_=bo_fr_table_15\">Spider-Man: Far from Home</a></td><td class=\"a-text-right mojo-field-type-money mojo-estimatable\" style=\"width: 122px; height: 50px; min-width: 122px; min-height: 50px;\">$390,532,085</td><td class=\"a-text-right mojo-field-type-positive_integer\" style=\"width: 114px; height: 50px; min-width: 114px; min-height: 50px;\">4,634</td><td class=\"a-text-right mojo-field-type-money\" style=\"width: 111px; height: 50px; min-width: 111px; min-height: 50px;\">$92,579,212</td><td class=\"a-text-right mojo-field-type-positive_integer\" style=\"width: 86px; height: 50px; min-width: 86px; min-height: 50px;\">4,634</td><td class=\"a-text-left mojo-field-type-date mojo-sort-column a-nowrap\" style=\"width: 111px; height: 50px; min-width: 111px; min-height: 50px;\"><a class=\"a-link-normal\" href=\"/boxoffice/date/2019-07-02/?ref_=bo_fr_table_15\">Jul 2, 2019</a></td><td class=\"a-text-left mojo-field-type-release_studios\" style=\"width: 136px; height: 50px; min-width: 136px; min-height: 50px;\"><a class=\"a-link-normal\" href=\"https://pro.imdb.com/company/co0110101/boxoffice/?view=releases&amp;ref_=mojo_fr_table_15&amp;rf=mojo_fr_table_15\" rel=\"noopener\" target=\"_blank\">Sony Pictures Releasing</a></td><td class=\"a-text-right mojo-field-type-boolean hidden\" style=\"width: 0px; height: 0px; min-width: 0px; min-height: 0px;\">false</td></tr><tr><td class=\"a-text-right mojo-header-column mojo-truncate mojo-field-type-rank\" style=\"width: 59px; height: 68px; min-width: 59px; min-height: 68px;\">1</td><td class=\"a-text-left mojo-field-type-release mojo-cell-wide\" style=\"width: 251px; height: 68px; min-width: 251px; min-height: 68px;\"><a class=\"a-link-normal\" href=\"/release/rl3059975681/?ref_=bo_fr_table_16\">Avengers: Endgame</a></td><td class=\"a-text-right mojo-field-type-money mojo-estimatable\" style=\"width: 122px; height: 68px; min-width: 122px; min-height: 68px;\">$858,373,000</td><td class=\"a-text-right mojo-field-type-positive_integer\" style=\"width: 114px; height: 68px; min-width: 114px; min-height: 68px;\">4,662</td><td class=\"a-text-right mojo-field-type-money\" style=\"width: 111px; height: 68px; min-width: 111px; min-height: 68px;\">$357,115,007</td><td class=\"a-text-right mojo-field-type-positive_integer\" style=\"width: 86px; height: 68px; min-width: 86px; min-height: 68px;\">4,662</td><td class=\"a-text-left mojo-field-type-date mojo-sort-column a-nowrap\" style=\"width: 111px; height: 68px; min-width: 111px; min-height: 68px;\"><a class=\"a-link-normal\" href=\"/boxoffice/date/2019-04-26/?ref_=bo_fr_table_16\">Apr 26, 2019</a></td><td class=\"a-text-left mojo-field-type-release_studios\" style=\"width: 136px; height: 68px; min-width: 136px; min-height: 68px;\"><a class=\"a-link-normal\" href=\"https://pro.imdb.com/company/co0226183/boxoffice/?view=releases&amp;ref_=mojo_fr_table_16&amp;rf=mojo_fr_table_16\" rel=\"noopener\" target=\"_blank\">Walt Disney Studios Motion Pictures</a></td><td class=\"a-text-right mojo-field-type-boolean hidden\" style=\"width: 0px; height: 0px; min-width: 0px; min-height: 0px;\">false</td></tr><tr><td class=\"a-text-right mojo-header-column mojo-truncate mojo-field-type-rank\" style=\"width: 59px; height: 68px; min-width: 59px; min-height: 68px;\">6</td><td class=\"a-text-left mojo-field-type-release mojo-cell-wide\" style=\"width: 251px; height: 68px; min-width: 251px; min-height: 68px;\"><a class=\"a-link-normal\" href=\"/release/rl3009644033/?ref_=bo_fr_table_17\">Captain Marvel</a></td><td class=\"a-text-right mojo-field-type-money mojo-estimatable\" style=\"width: 122px; height: 68px; min-width: 122px; min-height: 68px;\">$426,829,839</td><td class=\"a-text-right mojo-field-type-positive_integer\" style=\"width: 114px; height: 68px; min-width: 114px; min-height: 68px;\">4,310</td><td class=\"a-text-right mojo-field-type-money\" style=\"width: 111px; height: 68px; min-width: 111px; min-height: 68px;\">$153,433,423</td><td class=\"a-text-right mojo-field-type-positive_integer\" style=\"width: 86px; height: 68px; min-width: 86px; min-height: 68px;\">4,310</td><td class=\"a-text-left mojo-field-type-date mojo-sort-column a-nowrap\" style=\"width: 111px; height: 68px; min-width: 111px; min-height: 68px;\"><a class=\"a-link-normal\" href=\"/boxoffice/date/2019-03-08/?ref_=bo_fr_table_17\">Mar 8, 2019</a></td><td class=\"a-text-left mojo-field-type-release_studios\" style=\"width: 136px; height: 68px; min-width: 136px; min-height: 68px;\"><a class=\"a-link-normal\" href=\"https://pro.imdb.com/company/co0226183/boxoffice/?view=releases&amp;ref_=mojo_fr_table_17&amp;rf=mojo_fr_table_17\" rel=\"noopener\" target=\"_blank\">Walt Disney Studios Motion Pictures</a></td><td class=\"a-text-right mojo-field-type-boolean hidden\" style=\"width: 0px; height: 0px; min-width: 0px; min-height: 0px;\">false</td></tr><tr><td class=\"a-text-right mojo-header-column mojo-truncate mojo-field-type-rank\" style=\"width: 59px; height: 68px; min-width: 59px; min-height: 68px;\">18</td><td class=\"a-text-left mojo-field-type-release mojo-cell-wide\" style=\"width: 251px; height: 68px; min-width: 251px; min-height: 68px;\"><a class=\"a-link-normal\" href=\"/release/rl2088535553/?ref_=bo_fr_table_18\">Ant-Man and the Wasp</a></td><td class=\"a-text-right mojo-field-type-money mojo-estimatable\" style=\"width: 122px; height: 68px; min-width: 122px; min-height: 68px;\">$216,648,740</td><td class=\"a-text-right mojo-field-type-positive_integer\" style=\"width: 114px; height: 68px; min-width: 114px; min-height: 68px;\">4,206</td><td class=\"a-text-right mojo-field-type-money\" style=\"width: 111px; height: 68px; min-width: 111px; min-height: 68px;\">$75,812,205</td><td class=\"a-text-right mojo-field-type-positive_integer\" style=\"width: 86px; height: 68px; min-width: 86px; min-height: 68px;\">4,206</td><td class=\"a-text-left mojo-field-type-date mojo-sort-column a-nowrap\" style=\"width: 111px; height: 68px; min-width: 111px; min-height: 68px;\"><a class=\"a-link-normal\" href=\"/boxoffice/date/2018-07-06/?ref_=bo_fr_table_18\">Jul 6, 2018</a></td><td class=\"a-text-left mojo-field-type-release_studios\" style=\"width: 136px; height: 68px; min-width: 136px; min-height: 68px;\"><a class=\"a-link-normal\" href=\"https://pro.imdb.com/company/co0226183/boxoffice/?view=releases&amp;ref_=mojo_fr_table_18&amp;rf=mojo_fr_table_18\" rel=\"noopener\" target=\"_blank\">Walt Disney Studios Motion Pictures</a></td><td class=\"a-text-right mojo-field-type-boolean hidden\" style=\"width: 0px; height: 0px; min-width: 0px; min-height: 0px;\">false</td></tr><tr><td class=\"a-text-right mojo-header-column mojo-truncate mojo-field-type-rank\" style=\"width: 59px; height: 68px; min-width: 59px; min-height: 68px;\">3</td><td class=\"a-text-left mojo-field-type-release mojo-cell-wide\" style=\"width: 251px; height: 68px; min-width: 251px; min-height: 68px;\"><a class=\"a-link-normal\" href=\"/release/rl3043198465/?ref_=bo_fr_table_19\">Avengers: Infinity War</a></td><td class=\"a-text-right mojo-field-type-money mojo-estimatable\" style=\"width: 122px; height: 68px; min-width: 122px; min-height: 68px;\">$678,815,482</td><td class=\"a-text-right mojo-field-type-positive_integer\" style=\"width: 114px; height: 68px; min-width: 114px; min-height: 68px;\">4,474</td><td class=\"a-text-right mojo-field-type-money\" style=\"width: 111px; height: 68px; min-width: 111px; min-height: 68px;\">$257,698,183</td><td class=\"a-text-right mojo-field-type-positive_integer\" style=\"width: 86px; height: 68px; min-width: 86px; min-height: 68px;\">4,474</td><td class=\"a-text-left mojo-field-type-date mojo-sort-column a-nowrap\" style=\"width: 111px; height: 68px; min-width: 111px; min-height: 68px;\"><a class=\"a-link-normal\" href=\"/boxoffice/date/2018-04-27/?ref_=bo_fr_table_19\">Apr 27, 2018</a></td><td class=\"a-text-left mojo-field-type-release_studios\" style=\"width: 136px; height: 68px; min-width: 136px; min-height: 68px;\"><a class=\"a-link-normal\" href=\"https://pro.imdb.com/company/co0226183/boxoffice/?view=releases&amp;ref_=mojo_fr_table_19&amp;rf=mojo_fr_table_19\" rel=\"noopener\" target=\"_blank\">Walt Disney Studios Motion Pictures</a></td><td class=\"a-text-right mojo-field-type-boolean hidden\" style=\"width: 0px; height: 0px; min-width: 0px; min-height: 0px;\">false</td></tr><tr><td class=\"a-text-right mojo-header-column mojo-truncate mojo-field-type-rank\" style=\"width: 59px; height: 68px; min-width: 59px; min-height: 68px;\">2</td><td class=\"a-text-left mojo-field-type-release mojo-cell-wide\" style=\"width: 251px; height: 68px; min-width: 251px; min-height: 68px;\"><a class=\"a-link-normal\" href=\"/release/rl2992866817/?ref_=bo_fr_table_20\">Black Panther</a></td><td class=\"a-text-right mojo-field-type-money mojo-estimatable\" style=\"width: 122px; height: 68px; min-width: 122px; min-height: 68px;\">$700,059,566</td><td class=\"a-text-right mojo-field-type-positive_integer\" style=\"width: 114px; height: 68px; min-width: 114px; min-height: 68px;\">4,084</td><td class=\"a-text-right mojo-field-type-money\" style=\"width: 111px; height: 68px; min-width: 111px; min-height: 68px;\">$202,003,951</td><td class=\"a-text-right mojo-field-type-positive_integer\" style=\"width: 86px; height: 68px; min-width: 86px; min-height: 68px;\">4,020</td><td class=\"a-text-left mojo-field-type-date mojo-sort-column a-nowrap\" style=\"width: 111px; height: 68px; min-width: 111px; min-height: 68px;\"><a class=\"a-link-normal\" href=\"/boxoffice/date/2018-02-16/?ref_=bo_fr_table_20\">Feb 16, 2018</a></td><td class=\"a-text-left mojo-field-type-release_studios\" style=\"width: 136px; height: 68px; min-width: 136px; min-height: 68px;\"><a class=\"a-link-normal\" href=\"https://pro.imdb.com/company/co0226183/boxoffice/?view=releases&amp;ref_=mojo_fr_table_20&amp;rf=mojo_fr_table_20\" rel=\"noopener\" target=\"_blank\">Walt Disney Studios Motion Pictures</a></td><td class=\"a-text-right mojo-field-type-boolean hidden\" style=\"width: 0px; height: 0px; min-width: 0px; min-height: 0px;\">false</td></tr><tr><td class=\"a-text-right mojo-header-column mojo-truncate mojo-field-type-rank\" style=\"width: 59px; height: 68px; min-width: 59px; min-height: 68px;\">14</td><td class=\"a-text-left mojo-field-type-release mojo-cell-wide\" style=\"width: 251px; height: 68px; min-width: 251px; min-height: 68px;\"><a class=\"a-link-normal\" href=\"/release/rl2959312385/?ref_=bo_fr_table_21\">Thor: Ragnarok</a></td><td class=\"a-text-right mojo-field-type-money mojo-estimatable\" style=\"width: 122px; height: 68px; min-width: 122px; min-height: 68px;\">$315,058,289</td><td class=\"a-text-right mojo-field-type-positive_integer\" style=\"width: 114px; height: 68px; min-width: 114px; min-height: 68px;\">4,080</td><td class=\"a-text-right mojo-field-type-money\" style=\"width: 111px; height: 68px; min-width: 111px; min-height: 68px;\">$122,744,989</td><td class=\"a-text-right mojo-field-type-positive_integer\" style=\"width: 86px; height: 68px; min-width: 86px; min-height: 68px;\">4,080</td><td class=\"a-text-left mojo-field-type-date mojo-sort-column a-nowrap\" style=\"width: 111px; height: 68px; min-width: 111px; min-height: 68px;\"><a class=\"a-link-normal\" href=\"/boxoffice/date/2017-11-03/?ref_=bo_fr_table_21\">Nov 3, 2017</a></td><td class=\"a-text-left mojo-field-type-release_studios\" style=\"width: 136px; height: 68px; min-width: 136px; min-height: 68px;\"><a class=\"a-link-normal\" href=\"https://pro.imdb.com/company/co0226183/boxoffice/?view=releases&amp;ref_=mojo_fr_table_21&amp;rf=mojo_fr_table_21\" rel=\"noopener\" target=\"_blank\">Walt Disney Studios Motion Pictures</a></td><td class=\"a-text-right mojo-field-type-boolean hidden\" style=\"width: 0px; height: 0px; min-width: 0px; min-height: 0px;\">false</td></tr><tr><td class=\"a-text-right mojo-header-column mojo-truncate mojo-field-type-rank\" style=\"width: 59px; height: 50px; min-width: 59px; min-height: 50px;\">11</td><td class=\"a-text-left mojo-field-type-release mojo-cell-wide\" style=\"width: 251px; height: 50px; min-width: 251px; min-height: 50px;\"><a class=\"a-link-normal\" href=\"/release/rl863208961/?ref_=bo_fr_table_22\">Spider-Man: Homecoming</a></td><td class=\"a-text-right mojo-field-type-money mojo-estimatable\" style=\"width: 122px; height: 50px; min-width: 122px; min-height: 50px;\">$334,201,140</td><td class=\"a-text-right mojo-field-type-positive_integer\" style=\"width: 114px; height: 50px; min-width: 114px; min-height: 50px;\">4,348</td><td class=\"a-text-right mojo-field-type-money\" style=\"width: 111px; height: 50px; min-width: 111px; min-height: 50px;\">$117,027,503</td><td class=\"a-text-right mojo-field-type-positive_integer\" style=\"width: 86px; height: 50px; min-width: 86px; min-height: 50px;\">4,348</td><td class=\"a-text-left mojo-field-type-date mojo-sort-column a-nowrap\" style=\"width: 111px; height: 50px; min-width: 111px; min-height: 50px;\"><a class=\"a-link-normal\" href=\"/boxoffice/date/2017-07-07/?ref_=bo_fr_table_22\">Jul 7, 2017</a></td><td class=\"a-text-left mojo-field-type-release_studios\" style=\"width: 136px; height: 50px; min-width: 136px; min-height: 50px;\"><a class=\"a-link-normal\" href=\"https://pro.imdb.com/company/co0110101/boxoffice/?view=releases&amp;ref_=mojo_fr_table_22&amp;rf=mojo_fr_table_22\" rel=\"noopener\" target=\"_blank\">Sony Pictures Releasing</a></td><td class=\"a-text-right mojo-field-type-boolean hidden\" style=\"width: 0px; height: 0px; min-width: 0px; min-height: 0px;\">false</td></tr><tr><td class=\"a-text-right mojo-header-column mojo-truncate mojo-field-type-rank\" style=\"width: 59px; height: 68px; min-width: 59px; min-height: 68px;\">10</td><td class=\"a-text-left mojo-field-type-release mojo-cell-wide\" style=\"width: 251px; height: 68px; min-width: 251px; min-height: 68px;\"><a class=\"a-link-normal\" href=\"/release/rl2976089601/?ref_=bo_fr_table_23\">Guardians of the Galaxy Vol. 2</a></td><td class=\"a-text-right mojo-field-type-money mojo-estimatable\" style=\"width: 122px; height: 68px; min-width: 122px; min-height: 68px;\">$389,813,101</td><td class=\"a-text-right mojo-field-type-positive_integer\" style=\"width: 114px; height: 68px; min-width: 114px; min-height: 68px;\">4,347</td><td class=\"a-text-right mojo-field-type-money\" style=\"width: 111px; height: 68px; min-width: 111px; min-height: 68px;\">$146,510,104</td><td class=\"a-text-right mojo-field-type-positive_integer\" style=\"width: 86px; height: 68px; min-width: 86px; min-height: 68px;\">4,347</td><td class=\"a-text-left mojo-field-type-date mojo-sort-column a-nowrap\" style=\"width: 111px; height: 68px; min-width: 111px; min-height: 68px;\"><a class=\"a-link-normal\" href=\"/boxoffice/date/2017-05-05/?ref_=bo_fr_table_23\">May 5, 2017</a></td><td class=\"a-text-left mojo-field-type-release_studios\" style=\"width: 136px; height: 68px; min-width: 136px; min-height: 68px;\"><a class=\"a-link-normal\" href=\"https://pro.imdb.com/company/co0226183/boxoffice/?view=releases&amp;ref_=mojo_fr_table_23&amp;rf=mojo_fr_table_23\" rel=\"noopener\" target=\"_blank\">Walt Disney Studios Motion Pictures</a></td><td class=\"a-text-right mojo-field-type-boolean hidden\" style=\"width: 0px; height: 0px; min-width: 0px; min-height: 0px;\">false</td></tr><tr><td class=\"a-text-right mojo-header-column mojo-truncate mojo-field-type-rank\" style=\"width: 59px; height: 68px; min-width: 59px; min-height: 68px;\">17</td><td class=\"a-text-left mojo-field-type-release mojo-cell-wide\" style=\"width: 251px; height: 68px; min-width: 251px; min-height: 68px;\"><a class=\"a-link-normal\" href=\"/release/rl3076752897/?ref_=bo_fr_table_24\">Doctor Strange</a></td><td class=\"a-text-right mojo-field-type-money mojo-estimatable\" style=\"width: 122px; height: 68px; min-width: 122px; min-height: 68px;\">$232,641,920</td><td class=\"a-text-right mojo-field-type-positive_integer\" style=\"width: 114px; height: 68px; min-width: 114px; min-height: 68px;\">3,882</td><td class=\"a-text-right mojo-field-type-money\" style=\"width: 111px; height: 68px; min-width: 111px; min-height: 68px;\">$85,058,311</td><td class=\"a-text-right mojo-field-type-positive_integer\" style=\"width: 86px; height: 68px; min-width: 86px; min-height: 68px;\">3,882</td><td class=\"a-text-left mojo-field-type-date mojo-sort-column a-nowrap\" style=\"width: 111px; height: 68px; min-width: 111px; min-height: 68px;\"><a class=\"a-link-normal\" href=\"/boxoffice/date/2016-11-04/?ref_=bo_fr_table_24\">Nov 4, 2016</a></td><td class=\"a-text-left mojo-field-type-release_studios\" style=\"width: 136px; height: 68px; min-width: 136px; min-height: 68px;\"><a class=\"a-link-normal\" href=\"https://pro.imdb.com/company/co0226183/boxoffice/?view=releases&amp;ref_=mojo_fr_table_24&amp;rf=mojo_fr_table_24\" rel=\"noopener\" target=\"_blank\">Walt Disney Studios Motion Pictures</a></td><td class=\"a-text-right mojo-field-type-boolean hidden\" style=\"width: 0px; height: 0px; min-width: 0px; min-height: 0px;\">false</td></tr><tr><td class=\"a-text-right mojo-header-column mojo-truncate mojo-field-type-rank\" style=\"width: 59px; height: 68px; min-width: 59px; min-height: 68px;\">8</td><td class=\"a-text-left mojo-field-type-release mojo-cell-wide\" style=\"width: 251px; height: 68px; min-width: 251px; min-height: 68px;\"><a class=\"a-link-normal\" href=\"/release/rl3210970625/?ref_=bo_fr_table_25\">Captain America: Civil War</a></td><td class=\"a-text-right mojo-field-type-money mojo-estimatable\" style=\"width: 122px; height: 68px; min-width: 122px; min-height: 68px;\">$408,084,349</td><td class=\"a-text-right mojo-field-type-positive_integer\" style=\"width: 114px; height: 68px; min-width: 114px; min-height: 68px;\">4,226</td><td class=\"a-text-right mojo-field-type-money\" style=\"width: 111px; height: 68px; min-width: 111px; min-height: 68px;\">$179,139,142</td><td class=\"a-text-right mojo-field-type-positive_integer\" style=\"width: 86px; height: 68px; min-width: 86px; min-height: 68px;\">4,226</td><td class=\"a-text-left mojo-field-type-date mojo-sort-column a-nowrap\" style=\"width: 111px; height: 68px; min-width: 111px; min-height: 68px;\"><a class=\"a-link-normal\" href=\"/boxoffice/date/2016-05-06/?ref_=bo_fr_table_25\">May 6, 2016</a></td><td class=\"a-text-left mojo-field-type-release_studios\" style=\"width: 136px; height: 68px; min-width: 136px; min-height: 68px;\"><a class=\"a-link-normal\" href=\"https://pro.imdb.com/company/co0226183/boxoffice/?view=releases&amp;ref_=mojo_fr_table_25&amp;rf=mojo_fr_table_25\" rel=\"noopener\" target=\"_blank\">Walt Disney Studios Motion Pictures</a></td><td class=\"a-text-right mojo-field-type-boolean hidden\" style=\"width: 0px; height: 0px; min-width: 0px; min-height: 0px;\">false</td></tr><tr><td class=\"a-text-right mojo-header-column mojo-truncate mojo-field-type-rank\" style=\"width: 59px; height: 68px; min-width: 59px; min-height: 68px;\">21</td><td class=\"a-text-left mojo-field-type-release mojo-cell-wide\" style=\"width: 251px; height: 68px; min-width: 251px; min-height: 68px;\"><a class=\"a-link-normal\" href=\"/release/rl88245761/?ref_=bo_fr_table_26\">Ant-Man</a></td><td class=\"a-text-right mojo-field-type-money mojo-estimatable\" style=\"width: 122px; height: 68px; min-width: 122px; min-height: 68px;\">$180,202,163</td><td class=\"a-text-right mojo-field-type-positive_integer\" style=\"width: 114px; height: 68px; min-width: 114px; min-height: 68px;\">3,868</td><td class=\"a-text-right mojo-field-type-money\" style=\"width: 111px; height: 68px; min-width: 111px; min-height: 68px;\">$57,225,526</td><td class=\"a-text-right mojo-field-type-positive_integer\" style=\"width: 86px; height: 68px; min-width: 86px; min-height: 68px;\">3,856</td><td class=\"a-text-left mojo-field-type-date mojo-sort-column a-nowrap\" style=\"width: 111px; height: 68px; min-width: 111px; min-height: 68px;\"><a class=\"a-link-normal\" href=\"/boxoffice/date/2015-07-17/?ref_=bo_fr_table_26\">Jul 17, 2015</a></td><td class=\"a-text-left mojo-field-type-release_studios\" style=\"width: 136px; height: 68px; min-width: 136px; min-height: 68px;\"><a class=\"a-link-normal\" href=\"https://pro.imdb.com/company/co0226183/boxoffice/?view=releases&amp;ref_=mojo_fr_table_26&amp;rf=mojo_fr_table_26\" rel=\"noopener\" target=\"_blank\">Walt Disney Studios Motion Pictures</a></td><td class=\"a-text-right mojo-field-type-boolean hidden\" style=\"width: 0px; height: 0px; min-width: 0px; min-height: 0px;\">false</td></tr><tr><td class=\"a-text-right mojo-header-column mojo-truncate mojo-field-type-rank\" style=\"width: 59px; height: 68px; min-width: 59px; min-height: 68px;\">5</td><td class=\"a-text-left mojo-field-type-release mojo-cell-wide\" style=\"width: 251px; height: 68px; min-width: 251px; min-height: 68px;\"><a class=\"a-link-normal\" href=\"/release/rl675644929/?ref_=bo_fr_table_27\">Avengers: Age of Ultron</a></td><td class=\"a-text-right mojo-field-type-money mojo-estimatable\" style=\"width: 122px; height: 68px; min-width: 122px; min-height: 68px;\">$459,005,868</td><td class=\"a-text-right mojo-field-type-positive_integer\" style=\"width: 114px; height: 68px; min-width: 114px; min-height: 68px;\">4,276</td><td class=\"a-text-right mojo-field-type-money\" style=\"width: 111px; height: 68px; min-width: 111px; min-height: 68px;\">$191,271,109</td><td class=\"a-text-right mojo-field-type-positive_integer\" style=\"width: 86px; height: 68px; min-width: 86px; min-height: 68px;\">4,276</td><td class=\"a-text-left mojo-field-type-date mojo-sort-column a-nowrap\" style=\"width: 111px; height: 68px; min-width: 111px; min-height: 68px;\"><a class=\"a-link-normal\" href=\"/boxoffice/date/2015-05-01/?ref_=bo_fr_table_27\">May 1, 2015</a></td><td class=\"a-text-left mojo-field-type-release_studios\" style=\"width: 136px; height: 68px; min-width: 136px; min-height: 68px;\"><a class=\"a-link-normal\" href=\"https://pro.imdb.com/company/co0226183/boxoffice/?view=releases&amp;ref_=mojo_fr_table_27&amp;rf=mojo_fr_table_27\" rel=\"noopener\" target=\"_blank\">Walt Disney Studios Motion Pictures</a></td><td class=\"a-text-right mojo-field-type-boolean hidden\" style=\"width: 0px; height: 0px; min-width: 0px; min-height: 0px;\">false</td></tr><tr><td class=\"a-text-right mojo-header-column mojo-truncate mojo-field-type-rank\" style=\"width: 59px; height: 68px; min-width: 59px; min-height: 68px;\">12</td><td class=\"a-text-left mojo-field-type-release mojo-cell-wide\" style=\"width: 251px; height: 68px; min-width: 251px; min-height: 68px;\"><a class=\"a-link-normal\" href=\"/release/rl3177416193/?ref_=bo_fr_table_28\">Guardians of the Galaxy</a></td><td class=\"a-text-right mojo-field-type-money mojo-estimatable\" style=\"width: 122px; height: 68px; min-width: 122px; min-height: 68px;\">$333,176,600</td><td class=\"a-text-right mojo-field-type-positive_integer\" style=\"width: 114px; height: 68px; min-width: 114px; min-height: 68px;\">4,088</td><td class=\"a-text-right mojo-field-type-money\" style=\"width: 111px; height: 68px; min-width: 111px; min-height: 68px;\">$94,320,883</td><td class=\"a-text-right mojo-field-type-positive_integer\" style=\"width: 86px; height: 68px; min-width: 86px; min-height: 68px;\">4,080</td><td class=\"a-text-left mojo-field-type-date mojo-sort-column a-nowrap\" style=\"width: 111px; height: 68px; min-width: 111px; min-height: 68px;\"><a class=\"a-link-normal\" href=\"/boxoffice/date/2014-08-01/?ref_=bo_fr_table_28\">Aug 1, 2014</a></td><td class=\"a-text-left mojo-field-type-release_studios\" style=\"width: 136px; height: 68px; min-width: 136px; min-height: 68px;\"><a class=\"a-link-normal\" href=\"https://pro.imdb.com/company/co0226183/boxoffice/?view=releases&amp;ref_=mojo_fr_table_28&amp;rf=mojo_fr_table_28\" rel=\"noopener\" target=\"_blank\">Walt Disney Studios Motion Pictures</a></td><td class=\"a-text-right mojo-field-type-boolean hidden\" style=\"width: 0px; height: 0px; min-width: 0px; min-height: 0px;\">false</td></tr><tr><td class=\"a-text-right mojo-header-column mojo-truncate mojo-field-type-rank\" style=\"width: 59px; height: 68px; min-width: 59px; min-height: 68px;\">16</td><td class=\"a-text-left mojo-field-type-release mojo-cell-wide\" style=\"width: 251px; height: 68px; min-width: 251px; min-height: 68px;\"><a class=\"a-link-normal\" href=\"/release/rl3194193409/?ref_=bo_fr_table_29\">Captain America: The Winter Soldier</a></td><td class=\"a-text-right mojo-field-type-money mojo-estimatable\" style=\"width: 122px; height: 68px; min-width: 122px; min-height: 68px;\">$259,766,572</td><td class=\"a-text-right mojo-field-type-positive_integer\" style=\"width: 114px; height: 68px; min-width: 114px; min-height: 68px;\">3,938</td><td class=\"a-text-right mojo-field-type-money\" style=\"width: 111px; height: 68px; min-width: 111px; min-height: 68px;\">$95,023,721</td><td class=\"a-text-right mojo-field-type-positive_integer\" style=\"width: 86px; height: 68px; min-width: 86px; min-height: 68px;\">3,938</td><td class=\"a-text-left mojo-field-type-date mojo-sort-column a-nowrap\" style=\"width: 111px; height: 68px; min-width: 111px; min-height: 68px;\"><a class=\"a-link-normal\" href=\"/boxoffice/date/2014-04-04/?ref_=bo_fr_table_29\">Apr 4, 2014</a></td><td class=\"a-text-left mojo-field-type-release_studios\" style=\"width: 136px; height: 68px; min-width: 136px; min-height: 68px;\"><a class=\"a-link-normal\" href=\"https://pro.imdb.com/company/co0226183/boxoffice/?view=releases&amp;ref_=mojo_fr_table_29&amp;rf=mojo_fr_table_29\" rel=\"noopener\" target=\"_blank\">Walt Disney Studios Motion Pictures</a></td><td class=\"a-text-right mojo-field-type-boolean hidden\" style=\"width: 0px; height: 0px; min-width: 0px; min-height: 0px;\">false</td></tr><tr><td class=\"a-text-right mojo-header-column mojo-truncate mojo-field-type-rank\" style=\"width: 59px; height: 68px; min-width: 59px; min-height: 68px;\">19</td><td class=\"a-text-left mojo-field-type-release mojo-cell-wide\" style=\"width: 251px; height: 68px; min-width: 251px; min-height: 68px;\"><a class=\"a-link-normal\" href=\"/release/rl3111421441/?ref_=bo_fr_table_30\">Thor: The Dark World</a></td><td class=\"a-text-right mojo-field-type-money mojo-estimatable\" style=\"width: 122px; height: 68px; min-width: 122px; min-height: 68px;\">$206,362,140</td><td class=\"a-text-right mojo-field-type-positive_integer\" style=\"width: 114px; height: 68px; min-width: 114px; min-height: 68px;\">3,841</td><td class=\"a-text-right mojo-field-type-money\" style=\"width: 111px; height: 68px; min-width: 111px; min-height: 68px;\">$85,737,841</td><td class=\"a-text-right mojo-field-type-positive_integer\" style=\"width: 86px; height: 68px; min-width: 86px; min-height: 68px;\">3,841</td><td class=\"a-text-left mojo-field-type-date mojo-sort-column a-nowrap\" style=\"width: 111px; height: 68px; min-width: 111px; min-height: 68px;\"><a class=\"a-link-normal\" href=\"/boxoffice/date/2013-11-08/?ref_=bo_fr_table_30\">Nov 8, 2013</a></td><td class=\"a-text-left mojo-field-type-release_studios\" style=\"width: 136px; height: 68px; min-width: 136px; min-height: 68px;\"><a class=\"a-link-normal\" href=\"https://pro.imdb.com/company/co0226183/boxoffice/?view=releases&amp;ref_=mojo_fr_table_30&amp;rf=mojo_fr_table_30\" rel=\"noopener\" target=\"_blank\">Walt Disney Studios Motion Pictures</a></td><td class=\"a-text-right mojo-field-type-boolean hidden\" style=\"width: 0px; height: 0px; min-width: 0px; min-height: 0px;\">false</td></tr><tr><td class=\"a-text-right mojo-header-column mojo-truncate mojo-field-type-rank\" style=\"width: 59px; height: 68px; min-width: 59px; min-height: 68px;\">7</td><td class=\"a-text-left mojo-field-type-release mojo-cell-wide\" style=\"width: 251px; height: 68px; min-width: 251px; min-height: 68px;\"><a class=\"a-link-normal\" href=\"/release/rl1532659201/?ref_=bo_fr_table_31\">Iron Man 3</a></td><td class=\"a-text-right mojo-field-type-money mojo-estimatable\" style=\"width: 122px; height: 68px; min-width: 122px; min-height: 68px;\">$409,013,994</td><td class=\"a-text-right mojo-field-type-positive_integer\" style=\"width: 114px; height: 68px; min-width: 114px; min-height: 68px;\">4,253</td><td class=\"a-text-right mojo-field-type-money\" style=\"width: 111px; height: 68px; min-width: 111px; min-height: 68px;\">$174,144,585</td><td class=\"a-text-right mojo-field-type-positive_integer\" style=\"width: 86px; height: 68px; min-width: 86px; min-height: 68px;\">4,253</td><td class=\"a-text-left mojo-field-type-date mojo-sort-column a-nowrap\" style=\"width: 111px; height: 68px; min-width: 111px; min-height: 68px;\"><a class=\"a-link-normal\" href=\"/boxoffice/date/2013-05-03/?ref_=bo_fr_table_31\">May 3, 2013</a></td><td class=\"a-text-left mojo-field-type-release_studios\" style=\"width: 136px; height: 68px; min-width: 136px; min-height: 68px;\"><a class=\"a-link-normal\" href=\"https://pro.imdb.com/company/co0226183/boxoffice/?view=releases&amp;ref_=mojo_fr_table_31&amp;rf=mojo_fr_table_31\" rel=\"noopener\" target=\"_blank\">Walt Disney Studios Motion Pictures</a></td><td class=\"a-text-right mojo-field-type-boolean hidden\" style=\"width: 0px; height: 0px; min-width: 0px; min-height: 0px;\">false</td></tr><tr><td class=\"a-text-right mojo-header-column mojo-truncate mojo-field-type-rank\" style=\"width: 59px; height: 68px; min-width: 59px; min-height: 68px;\">4</td><td class=\"a-text-left mojo-field-type-release mojo-cell-wide\" style=\"width: 251px; height: 68px; min-width: 251px; min-height: 68px;\"><a class=\"a-link-normal\" href=\"/release/rl709199361/?ref_=bo_fr_table_32\">The Avengers</a></td><td class=\"a-text-right mojo-field-type-money mojo-estimatable\" style=\"width: 122px; height: 68px; min-width: 122px; min-height: 68px;\">$623,357,910</td><td class=\"a-text-right mojo-field-type-positive_integer\" style=\"width: 114px; height: 68px; min-width: 114px; min-height: 68px;\">4,349</td><td class=\"a-text-right mojo-field-type-money\" style=\"width: 111px; height: 68px; min-width: 111px; min-height: 68px;\">$207,438,708</td><td class=\"a-text-right mojo-field-type-positive_integer\" style=\"width: 86px; height: 68px; min-width: 86px; min-height: 68px;\">4,349</td><td class=\"a-text-left mojo-field-type-date mojo-sort-column a-nowrap\" style=\"width: 111px; height: 68px; min-width: 111px; min-height: 68px;\"><a class=\"a-link-normal\" href=\"/boxoffice/date/2012-05-04/?ref_=bo_fr_table_32\">May 4, 2012</a></td><td class=\"a-text-left mojo-field-type-release_studios\" style=\"width: 136px; height: 68px; min-width: 136px; min-height: 68px;\"><a class=\"a-link-normal\" href=\"https://pro.imdb.com/company/co0226183/boxoffice/?view=releases&amp;ref_=mojo_fr_table_32&amp;rf=mojo_fr_table_32\" rel=\"noopener\" target=\"_blank\">Walt Disney Studios Motion Pictures</a></td><td class=\"a-text-right mojo-field-type-boolean hidden\" style=\"width: 0px; height: 0px; min-width: 0px; min-height: 0px;\">false</td></tr><tr><td class=\"a-text-right mojo-header-column mojo-truncate mojo-field-type-rank\" style=\"width: 59px; height: 50px; min-width: 59px; min-height: 50px;\">22</td><td class=\"a-text-left mojo-field-type-release mojo-cell-wide\" style=\"width: 251px; height: 50px; min-width: 251px; min-height: 50px;\"><a class=\"a-link-normal\" href=\"/release/rl1900578305/?ref_=bo_fr_table_33\">Captain America: The First Avenger</a></td><td class=\"a-text-right mojo-field-type-money mojo-estimatable\" style=\"width: 122px; height: 50px; min-width: 122px; min-height: 50px;\">$176,654,505</td><td class=\"a-text-right mojo-field-type-positive_integer\" style=\"width: 114px; height: 50px; min-width: 114px; min-height: 50px;\">3,715</td><td class=\"a-text-right mojo-field-type-money\" style=\"width: 111px; height: 50px; min-width: 111px; min-height: 50px;\">$65,058,524</td><td class=\"a-text-right mojo-field-type-positive_integer\" style=\"width: 86px; height: 50px; min-width: 86px; min-height: 50px;\">3,715</td><td class=\"a-text-left mojo-field-type-date mojo-sort-column a-nowrap\" style=\"width: 111px; height: 50px; min-width: 111px; min-height: 50px;\"><a class=\"a-link-normal\" href=\"/boxoffice/date/2011-07-22/?ref_=bo_fr_table_33\">Jul 22, 2011</a></td><td class=\"a-text-left mojo-field-type-release_studios\" style=\"width: 136px; height: 50px; min-width: 136px; min-height: 50px;\"><a class=\"a-link-normal\" href=\"https://pro.imdb.com/company/co0023400/boxoffice/?view=releases&amp;ref_=mojo_fr_table_33&amp;rf=mojo_fr_table_33\" rel=\"noopener\" target=\"_blank\">Paramount Pictures</a></td><td class=\"a-text-right mojo-field-type-boolean hidden\" style=\"width: 0px; height: 0px; min-width: 0px; min-height: 0px;\">false</td></tr><tr><td class=\"a-text-right mojo-header-column mojo-truncate mojo-field-type-rank\" style=\"width: 59px; height: 50px; min-width: 59px; min-height: 50px;\">20</td><td class=\"a-text-left mojo-field-type-release mojo-cell-wide\" style=\"width: 251px; height: 50px; min-width: 251px; min-height: 50px;\"><a class=\"a-link-normal\" href=\"/release/rl3094644225/?ref_=bo_fr_table_34\">Thor</a></td><td class=\"a-text-right mojo-field-type-money mojo-estimatable\" style=\"width: 122px; height: 50px; min-width: 122px; min-height: 50px;\">$181,030,624</td><td class=\"a-text-right mojo-field-type-positive_integer\" style=\"width: 114px; height: 50px; min-width: 114px; min-height: 50px;\">3,963</td><td class=\"a-text-right mojo-field-type-money\" style=\"width: 111px; height: 50px; min-width: 111px; min-height: 50px;\">$65,723,338</td><td class=\"a-text-right mojo-field-type-positive_integer\" style=\"width: 86px; height: 50px; min-width: 86px; min-height: 50px;\">3,955</td><td class=\"a-text-left mojo-field-type-date mojo-sort-column a-nowrap\" style=\"width: 111px; height: 50px; min-width: 111px; min-height: 50px;\"><a class=\"a-link-normal\" href=\"/boxoffice/date/2011-05-06/?ref_=bo_fr_table_34\">May 6, 2011</a></td><td class=\"a-text-left mojo-field-type-release_studios\" style=\"width: 136px; height: 50px; min-width: 136px; min-height: 50px;\"><a class=\"a-link-normal\" href=\"https://pro.imdb.com/company/co0023400/boxoffice/?view=releases&amp;ref_=mojo_fr_table_34&amp;rf=mojo_fr_table_34\" rel=\"noopener\" target=\"_blank\">Paramount Pictures</a></td><td class=\"a-text-right mojo-field-type-boolean hidden\" style=\"width: 0px; height: 0px; min-width: 0px; min-height: 0px;\">false</td></tr><tr><td class=\"a-text-right mojo-header-column mojo-truncate mojo-field-type-rank\" style=\"width: 59px; height: 50px; min-width: 59px; min-height: 50px;\">15</td><td class=\"a-text-left mojo-field-type-release mojo-cell-wide\" style=\"width: 251px; height: 50px; min-width: 251px; min-height: 50px;\"><a class=\"a-link-normal\" href=\"/release/rl1515881985/?ref_=bo_fr_table_35\">Iron Man 2</a></td><td class=\"a-text-right mojo-field-type-money mojo-estimatable\" style=\"width: 122px; height: 50px; min-width: 122px; min-height: 50px;\">$312,433,331</td><td class=\"a-text-right mojo-field-type-positive_integer\" style=\"width: 114px; height: 50px; min-width: 114px; min-height: 50px;\">4,390</td><td class=\"a-text-right mojo-field-type-money\" style=\"width: 111px; height: 50px; min-width: 111px; min-height: 50px;\">$128,122,480</td><td class=\"a-text-right mojo-field-type-positive_integer\" style=\"width: 86px; height: 50px; min-width: 86px; min-height: 50px;\">4,380</td><td class=\"a-text-left mojo-field-type-date mojo-sort-column a-nowrap\" style=\"width: 111px; height: 50px; min-width: 111px; min-height: 50px;\"><a class=\"a-link-normal\" href=\"/boxoffice/date/2010-05-07/?ref_=bo_fr_table_35\">May 7, 2010</a></td><td class=\"a-text-left mojo-field-type-release_studios\" style=\"width: 136px; height: 50px; min-width: 136px; min-height: 50px;\"><a class=\"a-link-normal\" href=\"https://pro.imdb.com/company/co0023400/boxoffice/?view=releases&amp;ref_=mojo_fr_table_35&amp;rf=mojo_fr_table_35\" rel=\"noopener\" target=\"_blank\">Paramount Pictures</a></td><td class=\"a-text-right mojo-field-type-boolean hidden\" style=\"width: 0px; height: 0px; min-width: 0px; min-height: 0px;\">false</td></tr><tr><td class=\"a-text-right mojo-header-column mojo-truncate mojo-field-type-rank\" style=\"width: 59px; height: 31px; min-width: 59px; min-height: 31px;\">23</td><td class=\"a-text-left mojo-field-type-release mojo-cell-wide\" style=\"width: 251px; height: 31px; min-width: 251px; min-height: 31px;\"><a class=\"a-link-normal\" href=\"/release/rl2791015937/?ref_=bo_fr_table_36\">The Incredible Hulk</a></td><td class=\"a-text-right mojo-field-type-money mojo-estimatable\" style=\"width: 122px; height: 31px; min-width: 122px; min-height: 31px;\">$134,806,913</td><td class=\"a-text-right mojo-field-type-positive_integer\" style=\"width: 114px; height: 31px; min-width: 114px; min-height: 31px;\">3,508</td><td class=\"a-text-right mojo-field-type-money\" style=\"width: 111px; height: 31px; min-width: 111px; min-height: 31px;\">$55,414,050</td><td class=\"a-text-right mojo-field-type-positive_integer\" style=\"width: 86px; height: 31px; min-width: 86px; min-height: 31px;\">3,505</td><td class=\"a-text-left mojo-field-type-date mojo-sort-column a-nowrap\" style=\"width: 111px; height: 31px; min-width: 111px; min-height: 31px;\"><a class=\"a-link-normal\" href=\"/boxoffice/date/2008-06-13/?ref_=bo_fr_table_36\">Jun 13, 2008</a></td><td class=\"a-text-left mojo-field-type-release_studios\" style=\"width: 136px; height: 31px; min-width: 136px; min-height: 31px;\"><a class=\"a-link-normal\" href=\"https://pro.imdb.com/company/co0005073/boxoffice/?view=releases&amp;ref_=mojo_fr_table_36&amp;rf=mojo_fr_table_36\" rel=\"noopener\" target=\"_blank\">Universal Pictures</a></td><td class=\"a-text-right mojo-field-type-boolean hidden\" style=\"width: 0px; height: 0px; min-width: 0px; min-height: 0px;\">false</td></tr><tr><td class=\"a-text-right mojo-header-column mojo-truncate mojo-field-type-rank\" style=\"width: 59px; height: 50px; min-width: 59px; min-height: 50px;\">13</td><td class=\"a-text-left mojo-field-type-release mojo-cell-wide\" style=\"width: 251px; height: 50px; min-width: 251px; min-height: 50px;\"><a class=\"a-link-normal\" href=\"/release/rl1482327553/?ref_=bo_fr_table_37\">Iron Man</a></td><td class=\"a-text-right mojo-field-type-money mojo-estimatable\" style=\"width: 122px; height: 50px; min-width: 122px; min-height: 50px;\">$318,604,126</td><td class=\"a-text-right mojo-field-type-positive_integer\" style=\"width: 114px; height: 50px; min-width: 114px; min-height: 50px;\">4,154</td><td class=\"a-text-right mojo-field-type-money\" style=\"width: 111px; height: 50px; min-width: 111px; min-height: 50px;\">$98,618,668</td><td class=\"a-text-right mojo-field-type-positive_integer\" style=\"width: 86px; height: 50px; min-width: 86px; min-height: 50px;\">4,105</td><td class=\"a-text-left mojo-field-type-date mojo-sort-column a-nowrap\" style=\"width: 111px; height: 50px; min-width: 111px; min-height: 50px;\"><a class=\"a-link-normal\" href=\"/boxoffice/date/2008-05-02/?ref_=bo_fr_table_37\">May 2, 2008</a></td><td class=\"a-text-left mojo-field-type-release_studios\" style=\"width: 136px; height: 50px; min-width: 136px; min-height: 50px;\"><a class=\"a-link-normal\" href=\"https://pro.imdb.com/company/co0023400/boxoffice/?view=releases&amp;ref_=mojo_fr_table_37&amp;rf=mojo_fr_table_37\" rel=\"noopener\" target=\"_blank\">Paramount Pictures</a></td><td class=\"a-text-right mojo-field-type-boolean hidden\" style=\"width: 0px; height: 0px; min-width: 0px; min-height: 0px;\">false</td></tr></tbody></table></body></html>"
      ]
     },
     "execution_count": 39,
     "metadata": {},
     "output_type": "execute_result"
    }
   ],
   "source": [
    "#creating the beautiful soup object \n",
    "soup = BeautifulSoup(src)\n",
    "soup"
   ]
  },
  {
   "cell_type": "code",
   "execution_count": 45,
   "metadata": {},
   "outputs": [],
   "source": [
    "k=soup.find('table',{'class':'a-bordered a-horizontal-stripes a-size-base a-span12 mojo-body-table mojo-table-annotated scrolling-data-table'}).tbody"
   ]
  },
  {
   "cell_type": "code",
   "execution_count": 46,
   "metadata": {},
   "outputs": [],
   "source": [
    "s=[(v.text)for v in k.find_all('td')]\n"
   ]
  },
  {
   "cell_type": "code",
   "execution_count": 47,
   "metadata": {},
   "outputs": [
    {
     "data": {
      "text/plain": [
       "['-',\n",
       " 'Untitled Marvel (Nov 2023)',\n",
       " '-',\n",
       " '-',\n",
       " '-',\n",
       " '-',\n",
       " 'Nov 3, 2023',\n",
       " 'Walt Disney Studios Motion Pictures',\n",
       " 'false',\n",
       " '-',\n",
       " 'Untitled Marvel (July 2023)',\n",
       " '-',\n",
       " '-',\n",
       " '-',\n",
       " '-',\n",
       " 'Jul 28, 2023',\n",
       " 'Walt Disney Studios Motion Pictures',\n",
       " 'false',\n",
       " '-',\n",
       " 'Untitled Marvel (May 2023)',\n",
       " '-',\n",
       " '-',\n",
       " '-',\n",
       " '-',\n",
       " 'May 5, 2023',\n",
       " 'Walt Disney Studios Motion Pictures',\n",
       " 'false',\n",
       " '-',\n",
       " 'Untitled Marvel (Feb 2023)',\n",
       " '-',\n",
       " '-',\n",
       " '-',\n",
       " '-',\n",
       " 'Feb 17, 2023',\n",
       " 'Walt Disney Studios Motion Pictures',\n",
       " 'false',\n",
       " '-',\n",
       " 'Untitled Marvel (Oct 2022)',\n",
       " '-',\n",
       " '-',\n",
       " '-',\n",
       " '-',\n",
       " 'Oct 7, 2022',\n",
       " 'Walt Disney Studios Motion Pictures',\n",
       " 'false',\n",
       " '-',\n",
       " 'Untitled Disney Marvel Film',\n",
       " '-',\n",
       " '-',\n",
       " '-',\n",
       " '-',\n",
       " 'Jul 29, 2022',\n",
       " 'Walt Disney Studios Motion Pictures',\n",
       " 'false',\n",
       " '-',\n",
       " 'Black Panther II',\n",
       " '-',\n",
       " '-',\n",
       " '-',\n",
       " '-',\n",
       " 'May 6, 2022',\n",
       " 'Walt Disney Studios Motion Pictures',\n",
       " 'false',\n",
       " '-',\n",
       " 'Untitled Disney Marvel Film',\n",
       " '-',\n",
       " '-',\n",
       " '-',\n",
       " '-',\n",
       " 'Feb 18, 2022',\n",
       " 'Walt Disney Studios Motion Pictures',\n",
       " 'false',\n",
       " '-',\n",
       " 'Thor: Love and Thunder',\n",
       " '-',\n",
       " '-',\n",
       " '-',\n",
       " '-',\n",
       " 'Nov 5, 2021',\n",
       " 'Walt Disney Studios Motion Pictures',\n",
       " 'false',\n",
       " '-',\n",
       " 'Untitled Spider-Man Sequel',\n",
       " '-',\n",
       " '-',\n",
       " '-',\n",
       " '-',\n",
       " 'Jul 16, 2021',\n",
       " 'Sony Pictures Releasing',\n",
       " 'false',\n",
       " '-',\n",
       " 'Doctor Strange in the Multiverse of Madness',\n",
       " '-',\n",
       " '-',\n",
       " '-',\n",
       " '-',\n",
       " 'May 7, 2021',\n",
       " 'Walt Disney Studios Motion Pictures',\n",
       " 'false',\n",
       " '-',\n",
       " 'Shang-Chi and the Legend of the Ten Rings',\n",
       " '-',\n",
       " '-',\n",
       " '-',\n",
       " '-',\n",
       " 'Feb 12, 2021',\n",
       " 'Walt Disney Studios Motion Pictures',\n",
       " 'false',\n",
       " '-',\n",
       " 'Eternals',\n",
       " '-',\n",
       " '-',\n",
       " '-',\n",
       " '-',\n",
       " 'Nov 6, 2020',\n",
       " 'Walt Disney Studios Motion Pictures',\n",
       " 'false',\n",
       " '-',\n",
       " 'Black Widow',\n",
       " '-',\n",
       " '-',\n",
       " '-',\n",
       " '-',\n",
       " 'May 1, 2020',\n",
       " 'Walt Disney Studios Motion Pictures',\n",
       " 'false',\n",
       " '9',\n",
       " 'Spider-Man: Far from Home',\n",
       " '$390,532,085',\n",
       " '4,634',\n",
       " '$92,579,212',\n",
       " '4,634',\n",
       " 'Jul 2, 2019',\n",
       " 'Sony Pictures Releasing',\n",
       " 'false',\n",
       " '1',\n",
       " 'Avengers: Endgame',\n",
       " '$858,373,000',\n",
       " '4,662',\n",
       " '$357,115,007',\n",
       " '4,662',\n",
       " 'Apr 26, 2019',\n",
       " 'Walt Disney Studios Motion Pictures',\n",
       " 'false',\n",
       " '6',\n",
       " 'Captain Marvel',\n",
       " '$426,829,839',\n",
       " '4,310',\n",
       " '$153,433,423',\n",
       " '4,310',\n",
       " 'Mar 8, 2019',\n",
       " 'Walt Disney Studios Motion Pictures',\n",
       " 'false',\n",
       " '18',\n",
       " 'Ant-Man and the Wasp',\n",
       " '$216,648,740',\n",
       " '4,206',\n",
       " '$75,812,205',\n",
       " '4,206',\n",
       " 'Jul 6, 2018',\n",
       " 'Walt Disney Studios Motion Pictures',\n",
       " 'false',\n",
       " '3',\n",
       " 'Avengers: Infinity War',\n",
       " '$678,815,482',\n",
       " '4,474',\n",
       " '$257,698,183',\n",
       " '4,474',\n",
       " 'Apr 27, 2018',\n",
       " 'Walt Disney Studios Motion Pictures',\n",
       " 'false',\n",
       " '2',\n",
       " 'Black Panther',\n",
       " '$700,059,566',\n",
       " '4,084',\n",
       " '$202,003,951',\n",
       " '4,020',\n",
       " 'Feb 16, 2018',\n",
       " 'Walt Disney Studios Motion Pictures',\n",
       " 'false',\n",
       " '14',\n",
       " 'Thor: Ragnarok',\n",
       " '$315,058,289',\n",
       " '4,080',\n",
       " '$122,744,989',\n",
       " '4,080',\n",
       " 'Nov 3, 2017',\n",
       " 'Walt Disney Studios Motion Pictures',\n",
       " 'false',\n",
       " '11',\n",
       " 'Spider-Man: Homecoming',\n",
       " '$334,201,140',\n",
       " '4,348',\n",
       " '$117,027,503',\n",
       " '4,348',\n",
       " 'Jul 7, 2017',\n",
       " 'Sony Pictures Releasing',\n",
       " 'false',\n",
       " '10',\n",
       " 'Guardians of the Galaxy Vol. 2',\n",
       " '$389,813,101',\n",
       " '4,347',\n",
       " '$146,510,104',\n",
       " '4,347',\n",
       " 'May 5, 2017',\n",
       " 'Walt Disney Studios Motion Pictures',\n",
       " 'false',\n",
       " '17',\n",
       " 'Doctor Strange',\n",
       " '$232,641,920',\n",
       " '3,882',\n",
       " '$85,058,311',\n",
       " '3,882',\n",
       " 'Nov 4, 2016',\n",
       " 'Walt Disney Studios Motion Pictures',\n",
       " 'false',\n",
       " '8',\n",
       " 'Captain America: Civil War',\n",
       " '$408,084,349',\n",
       " '4,226',\n",
       " '$179,139,142',\n",
       " '4,226',\n",
       " 'May 6, 2016',\n",
       " 'Walt Disney Studios Motion Pictures',\n",
       " 'false',\n",
       " '21',\n",
       " 'Ant-Man',\n",
       " '$180,202,163',\n",
       " '3,868',\n",
       " '$57,225,526',\n",
       " '3,856',\n",
       " 'Jul 17, 2015',\n",
       " 'Walt Disney Studios Motion Pictures',\n",
       " 'false',\n",
       " '5',\n",
       " 'Avengers: Age of Ultron',\n",
       " '$459,005,868',\n",
       " '4,276',\n",
       " '$191,271,109',\n",
       " '4,276',\n",
       " 'May 1, 2015',\n",
       " 'Walt Disney Studios Motion Pictures',\n",
       " 'false',\n",
       " '12',\n",
       " 'Guardians of the Galaxy',\n",
       " '$333,176,600',\n",
       " '4,088',\n",
       " '$94,320,883',\n",
       " '4,080',\n",
       " 'Aug 1, 2014',\n",
       " 'Walt Disney Studios Motion Pictures',\n",
       " 'false',\n",
       " '16',\n",
       " 'Captain America: The Winter Soldier',\n",
       " '$259,766,572',\n",
       " '3,938',\n",
       " '$95,023,721',\n",
       " '3,938',\n",
       " 'Apr 4, 2014',\n",
       " 'Walt Disney Studios Motion Pictures',\n",
       " 'false',\n",
       " '19',\n",
       " 'Thor: The Dark World',\n",
       " '$206,362,140',\n",
       " '3,841',\n",
       " '$85,737,841',\n",
       " '3,841',\n",
       " 'Nov 8, 2013',\n",
       " 'Walt Disney Studios Motion Pictures',\n",
       " 'false',\n",
       " '7',\n",
       " 'Iron Man 3',\n",
       " '$409,013,994',\n",
       " '4,253',\n",
       " '$174,144,585',\n",
       " '4,253',\n",
       " 'May 3, 2013',\n",
       " 'Walt Disney Studios Motion Pictures',\n",
       " 'false',\n",
       " '4',\n",
       " 'The Avengers',\n",
       " '$623,357,910',\n",
       " '4,349',\n",
       " '$207,438,708',\n",
       " '4,349',\n",
       " 'May 4, 2012',\n",
       " 'Walt Disney Studios Motion Pictures',\n",
       " 'false',\n",
       " '22',\n",
       " 'Captain America: The First Avenger',\n",
       " '$176,654,505',\n",
       " '3,715',\n",
       " '$65,058,524',\n",
       " '3,715',\n",
       " 'Jul 22, 2011',\n",
       " 'Paramount Pictures',\n",
       " 'false',\n",
       " '20',\n",
       " 'Thor',\n",
       " '$181,030,624',\n",
       " '3,963',\n",
       " '$65,723,338',\n",
       " '3,955',\n",
       " 'May 6, 2011',\n",
       " 'Paramount Pictures',\n",
       " 'false',\n",
       " '15',\n",
       " 'Iron Man 2',\n",
       " '$312,433,331',\n",
       " '4,390',\n",
       " '$128,122,480',\n",
       " '4,380',\n",
       " 'May 7, 2010',\n",
       " 'Paramount Pictures',\n",
       " 'false',\n",
       " '23',\n",
       " 'The Incredible Hulk',\n",
       " '$134,806,913',\n",
       " '3,508',\n",
       " '$55,414,050',\n",
       " '3,505',\n",
       " 'Jun 13, 2008',\n",
       " 'Universal Pictures',\n",
       " 'false',\n",
       " '13',\n",
       " 'Iron Man',\n",
       " '$318,604,126',\n",
       " '4,154',\n",
       " '$98,618,668',\n",
       " '4,105',\n",
       " 'May 2, 2008',\n",
       " 'Paramount Pictures',\n",
       " 'false']"
      ]
     },
     "execution_count": 47,
     "metadata": {},
     "output_type": "execute_result"
    }
   ],
   "source": [
    "s"
   ]
  },
  {
   "cell_type": "markdown",
   "metadata": {},
   "source": [
    "<h3> MCU Lifetime Gross </h3>"
   ]
  },
  {
   "cell_type": "code",
   "execution_count": 358,
   "metadata": {},
   "outputs": [],
   "source": [
    "#now creating the list of list of rows\n",
    "listt=[]\n",
    "x=0\n",
    "y=9\n",
    "while (x<len(s)):\n",
    "    listt.append(s[::-1][x:y][::-1])\n",
    "    x=x+9\n",
    "    y=y+9"
   ]
  },
  {
   "cell_type": "code",
   "execution_count": 359,
   "metadata": {},
   "outputs": [],
   "source": [
    "#dealing with the comma seperated values \n",
    "updated_listt=[]\n",
    "for z in range(2,7):\n",
    "    for x in range(0,len(listt)):\n",
    "        y=listt[x][z]\n",
    "        y=y.replace(',','')\n",
    "        updated_listt.append(y)"
   ]
  },
  {
   "cell_type": "code",
   "execution_count": 360,
   "metadata": {},
   "outputs": [],
   "source": [
    "#updating a new list of list of columns\n",
    "updated_list=[]\n",
    "x=0\n",
    "y=37\n",
    "while (x<len(s)):\n",
    "    updated_list.append(updated_listt[x:y])\n",
    "    x=x+37\n",
    "    y=y+37"
   ]
  },
  {
   "cell_type": "code",
   "execution_count": 361,
   "metadata": {},
   "outputs": [],
   "source": [
    "#dealing wiht the rest of the data\n",
    "updated_list_1=[]\n",
    "for z in range(0,2):\n",
    "    for x in range(0,len(listt)):\n",
    "        y=listt[x][z]\n",
    "        updated_list_1.append(y)"
   ]
  },
  {
   "cell_type": "code",
   "execution_count": 362,
   "metadata": {},
   "outputs": [],
   "source": [
    "for z in range(7,9):\n",
    "    for x in range(0,len(listt)):\n",
    "        y=listt[x][z]\n",
    "        updated_list_1.append(y)"
   ]
  },
  {
   "cell_type": "code",
   "execution_count": 363,
   "metadata": {},
   "outputs": [],
   "source": [
    "updated_list_2=[]\n",
    "x=0\n",
    "y=37\n",
    "while (x<len(updated_list_1)):\n",
    "    updated_list_2.append(updated_list_1[x:y])\n",
    "    x=x+37\n",
    "    y=y+37"
   ]
  },
  {
   "cell_type": "code",
   "execution_count": 364,
   "metadata": {},
   "outputs": [],
   "source": [
    "df=pd.DataFrame({'Lifetime Gross':updated_list[0],'Max Theaters':updated_list[1],'Opening':updated_list[2],\n",
    "                   'Opening Number of Theaters':updated_list[3],'Release Date':updated_list[4]})"
   ]
  },
  {
   "cell_type": "code",
   "execution_count": 365,
   "metadata": {},
   "outputs": [],
   "source": [
    "df.insert(0, 'Rank', updated_list_2[0], allow_duplicates = False)\n",
    "df.insert(1, 'Release Title', updated_list_2[1], allow_duplicates = False)\n",
    "df.insert(2, 'Distributor', updated_list_2[2], allow_duplicates = False)"
   ]
  },
  {
   "cell_type": "code",
   "execution_count": 375,
   "metadata": {},
   "outputs": [],
   "source": [
    "df.to_csv(r'C:\\Users\\rajee\\Documents\\Untitled Folder\\Franchise_MCU.csv',index= False)"
   ]
  },
  {
   "cell_type": "code",
   "execution_count": 373,
   "metadata": {},
   "outputs": [
    {
     "name": "stdout",
     "output_type": "stream",
     "text": [
      "C:\\Users\\rajee\\Documents\\Untitled Folder\n"
     ]
    }
   ],
   "source": [
    "import os\n",
    "print(os.getcwd())"
   ]
  },
  {
   "cell_type": "code",
   "execution_count": 377,
   "metadata": {},
   "outputs": [
    {
     "name": "stdout",
     "output_type": "stream",
     "text": [
      "<class 'pandas.core.frame.DataFrame'>\n",
      "RangeIndex: 37 entries, 0 to 36\n",
      "Data columns (total 8 columns):\n",
      "Rank                          37 non-null object\n",
      "Release Title                 37 non-null object\n",
      "Distributor                   37 non-null object\n",
      "Lifetime Gross                37 non-null object\n",
      "Max Theaters                  37 non-null object\n",
      "Opening                       37 non-null object\n",
      "Opening Number of Theaters    37 non-null object\n",
      "Release Date                  37 non-null object\n",
      "dtypes: object(8)\n",
      "memory usage: 2.4+ KB\n"
     ]
    }
   ],
   "source": [
    "df.info()"
   ]
  },
  {
   "cell_type": "code",
   "execution_count": null,
   "metadata": {},
   "outputs": [],
   "source": []
  },
  {
   "cell_type": "code",
   "execution_count": null,
   "metadata": {},
   "outputs": [],
   "source": []
  },
  {
   "cell_type": "code",
   "execution_count": null,
   "metadata": {},
   "outputs": [],
   "source": []
  },
  {
   "cell_type": "code",
   "execution_count": null,
   "metadata": {},
   "outputs": [],
   "source": []
  },
  {
   "cell_type": "code",
   "execution_count": null,
   "metadata": {},
   "outputs": [],
   "source": []
  },
  {
   "cell_type": "code",
   "execution_count": null,
   "metadata": {},
   "outputs": [],
   "source": []
  },
  {
   "cell_type": "code",
   "execution_count": null,
   "metadata": {},
   "outputs": [],
   "source": []
  },
  {
   "cell_type": "code",
   "execution_count": null,
   "metadata": {},
   "outputs": [],
   "source": []
  },
  {
   "cell_type": "code",
   "execution_count": null,
   "metadata": {},
   "outputs": [],
   "source": []
  },
  {
   "cell_type": "code",
   "execution_count": null,
   "metadata": {},
   "outputs": [],
   "source": []
  },
  {
   "cell_type": "code",
   "execution_count": null,
   "metadata": {},
   "outputs": [],
   "source": []
  },
  {
   "cell_type": "code",
   "execution_count": 70,
   "metadata": {},
   "outputs": [],
   "source": []
  },
  {
   "cell_type": "code",
   "execution_count": 71,
   "metadata": {},
   "outputs": [],
   "source": []
  },
  {
   "cell_type": "code",
   "execution_count": 72,
   "metadata": {},
   "outputs": [],
   "source": []
  },
  {
   "cell_type": "code",
   "execution_count": 73,
   "metadata": {},
   "outputs": [],
   "source": []
  },
  {
   "cell_type": "code",
   "execution_count": null,
   "metadata": {},
   "outputs": [],
   "source": []
  },
  {
   "cell_type": "code",
   "execution_count": null,
   "metadata": {},
   "outputs": [],
   "source": []
  },
  {
   "cell_type": "code",
   "execution_count": null,
   "metadata": {},
   "outputs": [],
   "source": []
  },
  {
   "cell_type": "code",
   "execution_count": null,
   "metadata": {},
   "outputs": [],
   "source": []
  },
  {
   "cell_type": "code",
   "execution_count": null,
   "metadata": {},
   "outputs": [],
   "source": []
  }
 ],
 "metadata": {
  "kernelspec": {
   "display_name": "Python 3",
   "language": "python",
   "name": "python3"
  },
  "language_info": {
   "codemirror_mode": {
    "name": "ipython",
    "version": 3
   },
   "file_extension": ".py",
   "mimetype": "text/x-python",
   "name": "python",
   "nbconvert_exporter": "python",
   "pygments_lexer": "ipython3",
   "version": "3.7.7"
  }
 },
 "nbformat": 4,
 "nbformat_minor": 2
}
